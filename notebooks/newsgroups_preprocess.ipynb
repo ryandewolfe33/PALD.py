{
 "cells": [
  {
   "cell_type": "code",
   "execution_count": 2,
   "metadata": {},
   "outputs": [],
   "source": [
    "from sklearn import datasets\n",
    "import sklearn\n",
    "import numpy as np\n",
    "import umap\n",
    "import vectorizers\n",
    "import vectorizers.transformers\n",
    "import matplotlib.pyplot as plt\n",
    "import seaborn as sns\n",
    "import sentencepiece\n",
    "\n",
    "import io"
   ]
  },
  {
   "cell_type": "markdown",
   "metadata": {},
   "source": [
    "## Speed run vectorization\n",
    "https://vectorizers.readthedocs.io/en/latest/document_vectorization.html"
   ]
  },
  {
   "cell_type": "code",
   "execution_count": 3,
   "metadata": {},
   "outputs": [
    {
     "name": "stderr",
     "output_type": "stream",
     "text": [
      "sentencepiece_trainer.cc(78) LOG(INFO) Starts training with : \n",
      "trainer_spec {\n",
      "  input_format: \n",
      "  model_prefix: \n",
      "  model_type: UNIGRAM\n",
      "  vocab_size: 10000\n",
      "  self_test_sample_size: 0\n",
      "  character_coverage: 0.9995\n",
      "  input_sentence_size: 0\n",
      "  shuffle_input_sentence: 1\n",
      "  seed_sentencepiece_size: 1000000\n",
      "  shrinking_factor: 0.75\n",
      "  max_sentence_length: 4192\n",
      "  num_threads: 16\n",
      "  num_sub_iterations: 2\n",
      "  max_sentencepiece_length: 16\n",
      "  split_by_unicode_script: 1\n",
      "  split_by_number: 1\n",
      "  split_by_whitespace: 1\n",
      "  split_digits: 0\n",
      "  pretokenization_delimiter: \n",
      "  treat_whitespace_as_suffix: 0\n",
      "  allow_whitespace_only_pieces: 0\n",
      "  required_chars: \n",
      "  byte_fallback: 0\n",
      "  vocabulary_output_piece_score: 1\n",
      "  train_extremely_large_corpus: 0\n",
      "  seed_sentencepieces_file: \n",
      "  hard_vocab_limit: 1\n",
      "  use_all_vocab: 0\n",
      "  unk_id: 0\n",
      "  bos_id: 1\n",
      "  eos_id: 2\n",
      "  pad_id: -1\n",
      "  unk_piece: <unk>\n",
      "  bos_piece: <s>\n",
      "  eos_piece: </s>\n",
      "  pad_piece: <pad>\n",
      "  unk_surface:  ⁇ \n",
      "  enable_differential_privacy: 0\n",
      "  differential_privacy_noise_level"
     ]
    },
    {
     "name": "stdout",
     "output_type": "stream",
     "text": [
      "CPU times: user 23.2 s, sys: 529 ms, total: 23.7 s\n",
      "Wall time: 8.26 s\n"
     ]
    },
    {
     "name": "stderr",
     "output_type": "stream",
     "text": [
      ": 0\n",
      "  differential_privacy_clipping_threshold: 0\n",
      "}\n",
      "normalizer_spec {\n",
      "  name: nmt_nfkc\n",
      "  add_dummy_prefix: 1\n",
      "  remove_extra_whitespaces: 1\n",
      "  escape_whitespaces: 1\n",
      "  normalization_rule_tsv: \n",
      "}\n",
      "denormalizer_spec {}\n",
      "trainer_interface.cc(380) LOG(WARNING) Found too long line (6974 > 4192).\n",
      "trainer_interface.cc(382) LOG(WARNING) Too long lines are skipped in the training.\n",
      "trainer_interface.cc(383) LOG(WARNING) The maximum length can be changed with --max_sentence_length=<size> flag.\n",
      "trainer_interface.cc(409) LOG(INFO) Loaded all 12404 sentences\n",
      "trainer_interface.cc(416) LOG(INFO) Skipped 705 too long sentences.\n",
      "trainer_interface.cc(425) LOG(INFO) Adding meta_piece: <unk>\n",
      "trainer_interface.cc(425) LOG(INFO) Adding meta_piece: <s>\n",
      "trainer_interface.cc(425) LOG(INFO) Adding meta_piece: </s>\n",
      "trainer_interface.cc(430) LOG(INFO) Normalizing sentences...\n",
      "trainer_interface.cc(539) LOG(INFO) all chars count=11421005\n",
      "trainer_interface.cc(550) LOG(INFO) Done: 99.9622% characters are covered.\n",
      "trainer_interface.cc(560) LOG(INFO) Alphabet size=64\n",
      "trainer_interface.cc(561) LOG(INFO) Final character coverage=0.999622\n",
      "trainer_interface.cc(592) LOG(INFO) Done! preprocessed 12404 sentences.\n",
      "unigram_model_trainer.cc(265) LOG(INFO) Making suffix array...\n",
      "unigram_model_trainer.cc(269) LOG(INFO) Extracting frequent sub strings... node_num=5847561\n",
      "unigram_model_trainer.cc(312) LOG(INFO) Initialized 169960 seed sentencepieces\n",
      "trainer_interface.cc(598) LOG(INFO) Tokenizing input sentences with whitespace: 12404\n",
      "trainer_interface.cc(609) LOG(INFO) Done! 157059\n",
      "unigram_model_trainer.cc(602) LOG(INFO) Using 157059 sentences for EM training\n",
      "unigram_model_trainer.cc(618) LOG(INFO) EM sub_iter=0 size=64276 obj=11.5968 num_tokens=379170 num_tokens/piece=5.89909\n",
      "unigram_model_trainer.cc(618) LOG(INFO) EM sub_iter=1 size=56911 obj=9.28517 num_tokens=381259 num_tokens/piece=6.69921\n",
      "unigram_model_trainer.cc(618) LOG(INFO) EM sub_iter=0 size=42679 obj=9.271 num_tokens=396693 num_tokens/piece=9.29481\n",
      "unigram_model_trainer.cc(618) LOG(INFO) EM sub_iter=1 size=42651 obj=9.25439 num_tokens=396878 num_tokens/piece=9.30524\n",
      "unigram_model_trainer.cc(618) LOG(INFO) EM sub_iter=0 size=31988 obj=9.32787 num_tokens=419283 num_tokens/piece=13.1075\n",
      "unigram_model_trainer.cc(618) LOG(INFO) EM sub_iter=1 size=31987 obj=9.30982 num_tokens=419263 num_tokens/piece=13.1073\n",
      "unigram_model_trainer.cc(618) LOG(INFO) EM sub_iter=0 size=23990 obj=9.41374 num_tokens=444499 num_tokens/piece=18.5285\n",
      "unigram_model_trainer.cc(618) LOG(INFO) EM sub_iter=1 size=23990 obj=9.3903 num_tokens=444493 num_tokens/piece=18.5283\n",
      "unigram_model_trainer.cc(618) LOG(INFO) EM sub_iter=0 size=17992 obj=9.52758 num_tokens=471234 num_tokens/piece=26.1913\n",
      "unigram_model_trainer.cc(618) LOG(INFO) EM sub_iter=1 size=17992 obj=9.49912 num_tokens=471270 num_tokens/piece=26.1933\n",
      "unigram_model_trainer.cc(618) LOG(INFO) EM sub_iter=0 size=13494 obj=9.66266 num_tokens=498920 num_tokens/piece=36.9735\n",
      "unigram_model_trainer.cc(618) LOG(INFO) EM sub_iter=1 size=13494 obj=9.62915 num_tokens=498938 num_tokens/piece=36.9748\n",
      "unigram_model_trainer.cc(618) LOG(INFO) EM sub_iter=0 size=11000 obj=9.76077 num_tokens=518548 num_tokens/piece=47.1407\n",
      "unigram_model_trainer.cc(618) LOG(INFO) EM sub_iter=1 size=11000 obj=9.73515 num_tokens=518557 num_tokens/piece=47.1415\n"
     ]
    }
   ],
   "source": [
    "%%time\n",
    "dataset = datasets.fetch_20newsgroups(\n",
    "    subset=\"all\", remove=(\"headers\", \"footers\", \"quotes\")\n",
    ")\n",
    "\n",
    "long_enough = [len(t) > 280 for t in dataset[\"data\"]]\n",
    "targets = np.array(dataset.target)[long_enough]\n",
    "news_data = [t.lower() for t in dataset[\"data\"] if len(t) > 280]\n",
    "\n",
    "model_buffer = io.BytesIO()\n",
    "sentencepiece.SentencePieceTrainer.Train(\n",
    "    sentence_iterator=(x for x in news_data), model_writer=model_buffer, vocab_size=10000\n",
    ")\n",
    "\n",
    "sp_parser = sentencepiece.SentencePieceProcessor(model_proto=model_buffer.getvalue())\n",
    "\n",
    "tokenized_news = sp_parser.encode(news_data, out_type=str)"
   ]
  },
  {
   "cell_type": "code",
   "execution_count": 4,
   "metadata": {},
   "outputs": [
    {
     "name": "stderr",
     "output_type": "stream",
     "text": [
      "/Users/ryandewolfe/miniforge3/envs/PALD/lib/python3.12/site-packages/numba/core/utils.py:661: NumbaExperimentalFeatureWarning: \u001b[1mFirst-class function type feature is experimental\u001b[0m\n",
      "  warnings.warn(\"First-class function type feature is experimental\",\n",
      "/Users/ryandewolfe/miniforge3/envs/PALD/lib/python3.12/site-packages/numba/core/utils.py:661: NumbaExperimentalFeatureWarning: \u001b[1mFirst-class function type feature is experimental\u001b[0m\n",
      "  warnings.warn(\"First-class function type feature is experimental\",\n",
      "/Users/ryandewolfe/miniforge3/envs/PALD/lib/python3.12/site-packages/numba/core/utils.py:661: NumbaExperimentalFeatureWarning: \u001b[1mFirst-class function type feature is experimental\u001b[0m\n",
      "  warnings.warn(\"First-class function type feature is experimental\",\n"
     ]
    },
    {
     "name": "stdout",
     "output_type": "stream",
     "text": [
      "CPU times: user 3min 14s, sys: 5.46 s, total: 3min 20s\n",
      "Wall time: 1min 28s\n"
     ]
    }
   ],
   "source": [
    "%%time\n",
    "word_vectorizer = vectorizers.TokenCooccurrenceVectorizer(\n",
    "    min_document_occurrences=5,\n",
    "    window_radii=(1, 20),\n",
    "    window_functions=(\"fixed\", \"variable\"),\n",
    "    kernel_functions=(\"geometric\", \"geometric\"),\n",
    "    kernel_args=({}, {\"offset\":1}),\n",
    "    mask_string=\"[##MASK##]\",\n",
    "    nullify_mask=True,\n",
    "    n_iter=2,\n",
    "    normalize_windows=True,\n",
    "    n_threads=4,\n",
    ").fit(tokenized_news)\n",
    "word_vectors = word_vectorizer.reduce_dimension(dimension=150)"
   ]
  },
  {
   "cell_type": "code",
   "execution_count": 5,
   "metadata": {},
   "outputs": [
    {
     "name": "stderr",
     "output_type": "stream",
     "text": [
      "OMP: Info #276: omp_set_nested routine deprecated, please use omp_set_max_active_levels instead.\n"
     ]
    },
    {
     "name": "stdout",
     "output_type": "stream",
     "text": [
      "CPU times: user 3min 1s, sys: 4.93 s, total: 3min 6s\n",
      "Wall time: 1min 5s\n"
     ]
    }
   ],
   "source": [
    "%%time\n",
    "ngrammer = vectorizers.NgramVectorizer(\n",
    "    token_dictionary=word_vectorizer.token_label_dictionary_\n",
    ")\n",
    "doc_matrix = ngrammer.fit_transform(tokenized_news)\n",
    "\n",
    "info_weighter = vectorizers.transformers.InformationWeightTransformer(\n",
    "    prior_strength=1e-1,\n",
    "    approx_prior=False,\n",
    ")\n",
    "info_doc_matrix = info_weighter.fit_transform(doc_matrix)\n",
    "\n",
    "we_vectorizer = vectorizers.WassersteinVectorizer(\n",
    "    n_components=160,\n",
    "    memory_size=\"4G\",\n",
    "    random_state=42,\n",
    ")\n",
    "we_vectors = we_vectorizer.fit_transform(info_doc_matrix, vectors=word_vectors)"
   ]
  },
  {
   "cell_type": "markdown",
   "metadata": {},
   "source": [
    "## See a plot of the vectorized dataset colored by label"
   ]
  },
  {
   "cell_type": "code",
   "execution_count": 6,
   "metadata": {},
   "outputs": [
    {
     "name": "stdout",
     "output_type": "stream",
     "text": [
      "CPU times: user 15.8 s, sys: 478 ms, total: 16.3 s\n",
      "Wall time: 9.28 s\n"
     ]
    },
    {
     "data": {
      "text/plain": [
       "<matplotlib.collections.PathCollection at 0x34466e1e0>"
      ]
     },
     "execution_count": 6,
     "metadata": {},
     "output_type": "execute_result"
    },
    {
     "data": {
      "image/png": "[encoded data removed]",
      "text/plain": [
       "<Figure size 640x480 with 1 Axes>"
      ]
     },
     "metadata": {},
     "output_type": "display_data"
    }
   ],
   "source": [
    "%%time\n",
    "mapper = umap.UMAP()\n",
    "data_map = mapper.fit_transform(we_vectors)\n",
    "\n",
    "plt.scatter(data_map[:, 0], data_map[:, 1], c=targets)"
   ]
  },
  {
   "cell_type": "markdown",
   "metadata": {},
   "source": [
    "# Pretty bad, anywho we will only use a subset of all the groups which will improve separation"
   ]
  },
  {
   "cell_type": "code",
   "execution_count": 7,
   "metadata": {},
   "outputs": [],
   "source": [
    "np.save(\"news_vectors.npy\", we_vectors)\n",
    "np.save(\"news_labels.npy\", targets)"
   ]
  }
 ],
 "metadata": {
  "kernelspec": {
   "display_name": "PALD",
   "language": "python",
   "name": "python3"
  },
  "language_info": {
   "codemirror_mode": {
    "name": "ipython",
    "version": 3
   },
   "file_extension": ".py",
   "mimetype": "text/x-python",
   "name": "python",
   "nbconvert_exporter": "python",
   "pygments_lexer": "ipython3",
   "version": "3.12.4"
  }
 },
 "nbformat": 4,
 "nbformat_minor": 2
}
